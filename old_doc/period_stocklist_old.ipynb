{
 "cells": [
  {
   "cell_type": "code",
   "execution_count": 1,
   "metadata": {},
   "outputs": [],
   "source": [
    "import os\n",
    "import pandas as pd\n",
    "import numpy as np\n",
    "from datetime import timedelta, datetime\n",
    "import datetime as dt\n",
    "import copy\n",
    "\n",
    "import warnings\n",
    "warnings.filterwarnings(\"ignore\")\n",
    "warnings.simplefilter('ignore', category=FutureWarning)\n",
    "pd.options.mode.chained_assignment = None"
   ]
  },
  {
   "cell_type": "markdown",
   "metadata": {},
   "source": [
    "- Đọc và chuẩn bị dữ liệu"
   ]
  },
  {
   "cell_type": "code",
   "execution_count": 2,
   "metadata": {},
   "outputs": [],
   "source": [
    "#Đọc toàn bộ các file csv được xuất ra từ ami eod\n",
    "full_stock_dict = {}\n",
    "folder_path = 'D:\\\\t2m-project\\\\ami-data\\\\full_stock'\n",
    "for filename in os.listdir(folder_path):\n",
    "    if filename.endswith('.csv'):\n",
    "        key = os.path.splitext(filename)[0]\n",
    "        if len(key) == 3:\n",
    "            full_stock_dict[key] = pd.read_csv(os.path.join(folder_path, filename)).sort_values('date', ascending=False).reset_index(drop=True)\n",
    "\n",
    "for item, df in full_stock_dict.items():\n",
    "    df = df[df['date'] >= 200101]\n",
    "    df['date'] = pd.to_datetime(df['date'].astype(str), format='%y%m%d', errors='coerce')\n",
    "    full_stock_dict[item] = df\n",
    "    full_stock_dict[item]['ma20_volume'] = full_stock_dict[item]['volume'][::-1].rolling(window=20, min_periods=1).mean()[::-1]\n",
    "    full_stock_dict[item]['value'] = full_stock_dict[item]['volume']*full_stock_dict[item]['close']\n",
    "    full_stock_dict[item]['ma20_value'] = full_stock_dict[item]['value'][::-1].rolling(window=20, min_periods=1).mean()[::-1]"
   ]
  },
  {
   "cell_type": "markdown",
   "metadata": {},
   "source": [
    "- Các hàm tính toán"
   ]
  },
  {
   "cell_type": "code",
   "execution_count": 3,
   "metadata": {},
   "outputs": [],
   "source": [
    "# Hàm để tính ngày bắt đầu và kết thúc của một quý\n",
    "def get_quarter_dates(year, quarter):\n",
    "    if quarter == \"q1\":\n",
    "        start_date = f\"{year-1}-10-01\"\n",
    "        end_date = f\"{year-1}-12-31\"\n",
    "    elif quarter == \"q2\":\n",
    "        start_date = f\"{year}-01-01\"\n",
    "        end_date = f\"{year}-03-31\"\n",
    "    elif quarter == \"q3\":\n",
    "        start_date = f\"{year}-04-01\"\n",
    "        end_date = f\"{year}-06-30\"\n",
    "    elif quarter == \"q4\":\n",
    "        start_date = f\"{year}-07-01\"\n",
    "        end_date = f\"{year}-09-30\"\n",
    "    return start_date, end_date\n",
    "\n",
    "# Hàm để xác định quý hiện tại\n",
    "def get_current_quarter_year(name):\n",
    "    now = datetime.now()\n",
    "    year = now.year\n",
    "    month = now.month\n",
    "    if 1 <= month <= 3:\n",
    "        quarter = \"q1\"\n",
    "    elif 4 <= month <= 6:\n",
    "        quarter = \"q2\"\n",
    "    elif 7 <= month <= 9:\n",
    "        quarter = \"q3\"\n",
    "    else:\n",
    "        quarter = \"q4\"\n",
    "    if name == 'quarter':\n",
    "        return quarter\n",
    "    elif name == 'year':\n",
    "        return year"
   ]
  },
  {
   "cell_type": "markdown",
   "metadata": {},
   "source": [
    "- Tạo dict chứa các mốc thời gian từng quý"
   ]
  },
  {
   "cell_type": "code",
   "execution_count": 4,
   "metadata": {},
   "outputs": [],
   "source": [
    "# Lấy ra quý và năm hiện tại\n",
    "current_quarter = get_current_quarter_year('quarter')\n",
    "current_year = int(get_current_quarter_year('year'))\n",
    "\n",
    "# Tạo danh sách các quý và năm\n",
    "quarters = [\"q1\", \"q2\", \"q3\", \"q4\"]\n",
    "years = range(2020, current_year + 1)\n",
    "\n",
    "# Tạo dict chứa các quý và mốc thời gian\n",
    "period_date_dict = {}\n",
    "for year in years:\n",
    "    for quarter in quarters:\n",
    "        if year == 2020: #Check điều kiện để không thêm quý 1 năm 2020\n",
    "            if quarter != 'q1': \n",
    "                period_date_dict[f\"{quarter}_{year}\"] = get_quarter_dates(year, quarter)\n",
    "        elif year == current_year: #Check điều kiện để không thêm các quý lớn hơn quý hiện tại\n",
    "            if quarter <= current_quarter:\n",
    "                period_date_dict[f\"{quarter}_{year}\"] = get_quarter_dates(year, quarter)\n",
    "        else:\n",
    "            period_date_dict[f\"{quarter}_{year}\"] = get_quarter_dates(year, quarter)"
   ]
  },
  {
   "cell_type": "markdown",
   "metadata": {},
   "source": [
    "- Chuẩn bị danh sách cổ phiếu từng quý"
   ]
  },
  {
   "cell_type": "code",
   "execution_count": 5,
   "metadata": {},
   "outputs": [
    {
     "name": "stdout",
     "output_type": "stream",
     "text": [
      "all_stock 642\n",
      "q2_2020 194\n",
      "q3_2020 244\n",
      "q4_2020 270\n",
      "q1_2021 304\n",
      "q2_2021 392\n",
      "q3_2021 417\n",
      "q4_2021 424\n",
      "q1_2022 528\n",
      "q2_2022 511\n",
      "q3_2022 445\n",
      "q4_2022 394\n",
      "q1_2023 353\n",
      "q2_2023 311\n",
      "q3_2023 351\n",
      "q4_2023 407\n",
      "q1_2024 343\n",
      "q2_2024 366\n",
      "q3_2024 392\n",
      "q4_2024 360\n",
      "q1_2025 328\n",
      "Các cổ phiếu mới có: {'HVA', 'TRC'}\n"
     ]
    }
   ],
   "source": [
    "#Tạo dict chứa danh cách cổ phiếu từng quý\n",
    "period_stock_list_dict = {}\n",
    "for period, date in period_date_dict.items():\n",
    "    temp_dict = {k: v[(v['date'] >= date[0]) & (v['date'] <= date[1])] for k, v in copy.deepcopy(full_stock_dict).items()}\n",
    "    temp_dict = [k for k, v in temp_dict.items() if (v['volume'].mean() >= 50000) & (v['ma20_volume'].min() >= 20000)&\n",
    "                                                    (v['value'].mean() >= 500000) & (v['ma20_value'].min() >= 200000)]\n",
    "    period_stock_list_dict[period] = temp_dict\n",
    "\n",
    "#Tạo danh sách tất cả cổ phiếu quý trước\n",
    "previous_full_stock_list = set()\n",
    "for period in list(period_stock_list_dict.keys())[:-1]:\n",
    "    stock_list = period_stock_list_dict[period]\n",
    "    previous_full_stock_list.update(stock_list)\n",
    "\n",
    "#Tạo danh tất cả sách cổ phiếu quý này\n",
    "full_stock_list = set()\n",
    "for period, stock_list in period_stock_list_dict.items():\n",
    "    full_stock_list.update(stock_list)\n",
    "\n",
    "#Thêm danh sách các cổ phiếu vào vị trí đầu tiên của dict\n",
    "period_stock_list_dict = {**{'all_stock': list(full_stock_list)}, **period_stock_list_dict}\n",
    "\n",
    "#In ra số lượng các cổ phiếu\n",
    "for key, value in period_stock_list_dict.items():\n",
    "    print(key, len(value))\n",
    "\n",
    "#In ra các cổ phiếu mới làn đầu xuất hiện\n",
    "new_stock_list = full_stock_list - previous_full_stock_list\n",
    "print(f'Các cổ phiếu mới có: {new_stock_list}')\n",
    "new_stock_df = pd.DataFrame(new_stock_list, columns=['new_stock_list'])\n",
    "\n",
    "# Điền thêm giá trị NaN để đảm bảo các danh sách có cùng chiều dài\n",
    "data = copy.deepcopy(period_stock_list_dict)\n",
    "for key in data:\n",
    "    if len(data[key]) < len(full_stock_list):\n",
    "        data[key].extend([np.nan] * (len(full_stock_list) - len(data[key])))\n",
    "\n",
    "# Tạo DataFrame\n",
    "period_stock_list = pd.DataFrame(data)"
   ]
  },
  {
   "cell_type": "markdown",
   "metadata": {},
   "source": [
    "- Lưu lại dữ liệu"
   ]
  },
  {
   "cell_type": "code",
   "execution_count": 6,
   "metadata": {},
   "outputs": [],
   "source": [
    "# Hàm để tính ngày bắt đầu và kết thúc của một quý\n",
    "def get_real_quarter_dates(year, quarter):\n",
    "    if quarter == \"q1\":\n",
    "        start_date = f\"{year}-01-01\"\n",
    "        end_date = f\"{year}-03-31\"\n",
    "    elif quarter == \"q2\":\n",
    "        start_date = f\"{year}-04-01\"\n",
    "        end_date = f\"{year}-06-30\"\n",
    "    elif quarter == \"q3\":\n",
    "        start_date = f\"{year}-07-01\"\n",
    "        end_date = f\"{year}-09-30\"\n",
    "    elif quarter == \"q4\":\n",
    "        start_date = f\"{year}-10-01\"\n",
    "        end_date = f\"{year}-12-31\"\n",
    "    return [start_date, end_date]\n",
    "\n",
    "# Lấy ra quý và năm hiện tại\n",
    "current_quarter = get_current_quarter_year('quarter')\n",
    "current_year = int(get_current_quarter_year('year'))\n",
    "\n",
    "# Tạo danh sách các quý và năm\n",
    "quarters = [\"q1\", \"q2\", \"q3\", \"q4\"]\n",
    "years = range(2020, current_year + 1)\n",
    "\n",
    "# Tạo dict chứa các quý và mốc thời gian\n",
    "real_period_date_dict = {}\n",
    "for year in years:\n",
    "    for quarter in quarters:\n",
    "        if year == 2020: #Check điều kiện để không thêm quý 1 năm 2020\n",
    "            if quarter != 'q1': \n",
    "                real_period_date_dict[f\"{quarter}_{year}\"] = get_real_quarter_dates(year, quarter)\n",
    "        elif year == current_year: #Check điều kiện để không thêm các quý lớn hơn quý hiện tại\n",
    "            if quarter <= current_quarter:\n",
    "                real_period_date_dict[f\"{quarter}_{year}\"] = get_real_quarter_dates(year, quarter)\n",
    "        else:\n",
    "            real_period_date_dict[f\"{quarter}_{year}\"] = get_real_quarter_dates(year, quarter)\n",
    "\n",
    "for period, date in real_period_date_dict.items():\n",
    "    date.append(len(period_stock_list_dict[period]))\n",
    "\n",
    "period_map = pd.DataFrame.from_dict(real_period_date_dict, orient='index').reset_index()"
   ]
  },
  {
   "cell_type": "code",
   "execution_count": 7,
   "metadata": {},
   "outputs": [],
   "source": [
    "with pd.ExcelWriter('period_stock_list.xlsx', engine='openpyxl') as writer:\n",
    "    period_stock_list.to_excel(writer, sheet_name='period_stock_list', index=False)\n",
    "    period_map.to_excel(writer, sheet_name='period_map', index=False)\n",
    "    new_stock_df.to_excel(writer, sheet_name='new_stock_df', index=False)"
   ]
  }
 ],
 "metadata": {
  "kernelspec": {
   "display_name": "base",
   "language": "python",
   "name": "python3"
  },
  "language_info": {
   "codemirror_mode": {
    "name": "ipython",
    "version": 3
   },
   "file_extension": ".py",
   "mimetype": "text/x-python",
   "name": "python",
   "nbconvert_exporter": "python",
   "pygments_lexer": "ipython3",
   "version": "3.12.7"
  }
 },
 "nbformat": 4,
 "nbformat_minor": 2
}
